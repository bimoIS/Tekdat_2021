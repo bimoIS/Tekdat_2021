{
  "nbformat": 4,
  "nbformat_minor": 0,
  "metadata": {
    "colab": {
      "name": "Tekdat-UAS.ipynb",
      "provenance": [],
      "authorship_tag": "ABX9TyMXeTK2ZtaFXFy4KsTTZEhQ",
      "include_colab_link": true
    },
    "kernelspec": {
      "name": "python3",
      "display_name": "Python 3"
    },
    "language_info": {
      "name": "python"
    }
  },
  "cells": [
    {
      "cell_type": "markdown",
      "metadata": {
        "id": "view-in-github",
        "colab_type": "text"
      },
      "source": [
        "<a href=\"https://colab.research.google.com/github/bimoIS/Tekdat_2021/blob/main/Tekdat_UAS.ipynb\" target=\"_parent\"><img src=\"https://colab.research.google.com/assets/colab-badge.svg\" alt=\"Open In Colab\"/></a>"
      ]
    },
    {
      "cell_type": "code",
      "metadata": {
        "id": "dMqs96Ujgb-6"
      },
      "source": [
        "#Percobaan pertama\n",
        "import pandas as pd\n",
        "# sub 1\n",
        "df = pd.read_csv('/content/drive/MyDrive/CO2.csv')\n",
        "df.head(10)\n",
        "# sub 2\n",
        "df.describe()\n",
        "#sub 3\n",
        "df.drop(['Make','Model','Vehicle Class','Transmission','Fuel Type'], axis = 1, inplace = True)"
      ],
      "execution_count": null,
      "outputs": []
    },
    {
      "cell_type": "code",
      "metadata": {
        "id": "42emVunthN3L"
      },
      "source": [
        "#Percobaan kedua\n",
        "# sub 1\n",
        "import seaborn as sb\n",
        "import matplotlib.pyplot as plt\n",
        "from matplotlib import style\n",
        "\n",
        "style.use('seaborn-whitegrid')\n",
        "plt.rcParams['figure.figsize'] = (20,10)\n",
        "\n",
        "# sub 2 menampilkan semua hasil\n",
        "# sb.pairplot(df)\n",
        "# plt.savefig('pairplor.png')\n",
        "\n",
        "# (i) Engine size / CO2 emissions:\n",
        "plt.scatter(x = 'Engine Size(L)', y = 'CO2 Emissions(g/km)', data = df, s = 100, alpha = 0.3, edgecolor = 'white')\n",
        "plt.title('Engine size vs C02 Emissions', fontsize = 16)\n",
        "plt.ylabel('CO2 Emissions', fontsize = 12)\n",
        "plt.xlabel('Engine Size', fontsize = 12)\n",
        "\n",
        "plt.savefig('enginesize_co2.png')\n",
        "\n",
        "# (ii) Fuel Consumption Comb (L/100 km) / C02 emissions:\n",
        "plt.scatter(x = 'Fuel Consumption Comb (L/100 km)', y = 'CO2 Emissions(g/km)', data = df, s = 100, alpha = 0.3, edgecolor = 'white')\n",
        "plt.title('Fuel Consumption Comb (L/100 km) vs C02 Emissions', fontsize = 16)\n",
        "plt.ylabel('CO2 Emissions', fontsize = 12)\n",
        "plt.xlabel('Fuel Consumption Comb (L/100 km)', fontsize = 12)\n",
        "\n",
        "plt.savefig('fcc_co2')\n",
        "\n",
        "# (iii) Fuel Consumption Hwy (L/100 km) / CO2 emissions:\n",
        "plt.scatter(x = 'Fuel Consumption Hwy (L/100 km)', y = 'CO2 Emissions(g/km)', data = df, s = 100, alpha = 0.3, edgecolor = 'white')\n",
        "plt.title('Fuel Consumption Hwy (L/100 km) vs C02 Emissions', fontsize = 16)\n",
        "plt.ylabel('CO2 Emissions', fontsize = 12)\n",
        "plt.xlabel('Fuel Consumption City (L/100 km)', fontsize = 12)\n",
        "\n",
        "plt.savefig('fch_co2.png')\n",
        "\n",
        "#(iv) Fuel Consumption City (L/100 km) / CO2 Emissions:\n",
        "plt.scatter(x = 'Fuel Consumption City (L/100 km)', y = 'CO2 Emissions(g/km)', data = df, s = 100, alpha = 0.3, edgecolor = 'white')\n",
        "plt.title('Fuel Consumption City (L/100 km) vs C02 Emissions', fontsize = 16)\n",
        "plt.ylabel('CO2 Emissions', fontsize = 12)\n",
        "plt.xlabel('Fuel Consumption City (L/100 km)', fontsize = 12)\n",
        "\n",
        "plt.savefig('fccity_co2.png')"
      ],
      "execution_count": null,
      "outputs": []
    },
    {
      "cell_type": "code",
      "metadata": {
        "id": "BAYQv4jKhRW6"
      },
      "source": [
        "# SLR Model\n",
        "X_var = df[['Engine Size(L)']] # independent variable\n",
        "y_var = df['CO2 Emissions(g/km)'] # dependent variable\n",
        "\n",
        "# (i) Statsmodels:\n",
        "import statsmodels.api as sm\n",
        "from termcolor import colored as cl\n",
        "\n",
        "slr_model = sm.OLS(y_var, X_var) # Ordinary Least Squares \n",
        "slr_reg = slr_model.fit()\n",
        "\n",
        "slr_reg.summary()\n",
        "\n",
        "# (ii) Scikit-learn\n",
        "from sklearn.linear_model import LinearRegression\n",
        "from sklearn.model_selection import train_test_split\n",
        "\n",
        "X_train, X_test, y_train, y_test = train_test_split(X_var, y_var, test_size = 0.3, random_state = 0)\n",
        "\n",
        "lr = LinearRegression()\n",
        "lr.fit(X_train, y_train)\n",
        "\n",
        "yhat = lr.predict(X_test)\n",
        "\n",
        "slr_slope = lr.coef_\n",
        "slr_intercept = lr.intercept_\n",
        "\n",
        "sb.scatterplot(x = 'Engine Size(L)', y = 'CO2 Emissions(g/km)', data = df, s = 150, alpha = 0.3, edgecolor = 'white')\n",
        "plt.plot(df['Engine Size(L)'], slr_slope*df['Engine Size(L)'] + slr_intercept, color = 'r', linewidth = 3)\n",
        "plt.title('Engine size vs C02 Emissions', fontsize = 16)\n",
        "plt.ylabel('CO2 Emissions', fontsize = 12)\n",
        "plt.xlabel('Engine Size', fontsize = 12)\n",
        "\n",
        "plt.savefig('enginesize_co2_fit.png')\n",
        "\n",
        "print(cl('R-Squared :', attrs = ['bold']), lr.score(X_test, y_test))"
      ],
      "execution_count": null,
      "outputs": []
    },
    {
      "cell_type": "code",
      "metadata": {
        "id": "wZNKgVYdhUA6"
      },
      "source": [
        "# MLR Model\n",
        "X1_var = df[['Engine Size(L)','Fuel Consumption Comb (L/100 km)','Fuel Consumption Hwy (L/100 km)','Fuel Consumption City (L/100 km)']]\n",
        "y_var = df['CO2 Emissions(g/km)'] # dependent variable\n",
        "\n",
        "# (i) Statsmodels \n",
        "sm_X1_var = sm.add_constant(X1_var)\n",
        "\n",
        "mlr_model = sm.OLS(y_var, sm_X1_var)\n",
        "mlr_reg = mlr_model.fit()\n",
        "\n",
        "print(cl(mlr_reg.summary(), attrs = ['bold']))\n",
        "\n",
        "#(ii) Scikit-learn\n",
        "X_train, X_test, y_train, y_test = train_test_split(X1_var, y_var, test_size = 0.3, random_state = 0)\n",
        "\n",
        "lr = LinearRegression()\n",
        "lr.fit(X_train, y_train)\n",
        "\n",
        "yhat = lr.predict(X_test)\n",
        "\n",
        "print(cl('R-Squared :', attrs = ['bold']), lr.score(X_test, y_test))\n",
        "\n",
        "# Memvisualisasikan Akurasi Prediksi\n",
        "sb.distplot(yhat, hist = False, color = 'r', label = 'Predicted Values')\n",
        "sb.distplot(y_test, hist = False, color = 'b', label = 'Actual Values')\n",
        "plt.title('Actual vs Predicted Values', fontsize = 16)\n",
        "plt.xlabel('Values', fontsize = 12)\n",
        "plt.ylabel('Frequency', fontsize = 12)\n",
        "plt.legend(loc = 'upper left', fontsize = 13)\n",
        "\n",
        "plt.savefig('ap.png')"
      ],
      "execution_count": null,
      "outputs": []
    }
  ]
}